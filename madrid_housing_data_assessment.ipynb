{
  "cells": [
    {
      "cell_type": "code",
      "execution_count": 1,
      "metadata": {
        "id": "jRUBmnGJgZPk"
      },
      "outputs": [],
      "source": [
        "import pandas as pd\n",
        "import numpy as pn\n",
        "import sklearn"
      ]
    },
    {
      "cell_type": "code",
      "execution_count": 2,
      "metadata": {
        "id": "VELH01BvgqnT"
      },
      "outputs": [],
      "source": [
        "data = pd.read_excel(\"houses_for_rent_madrid.xlsx\")"
      ]
    },
    {
      "cell_type": "code",
      "execution_count": 3,
      "metadata": {
        "colab": {
          "base_uri": "https://localhost:8080/"
        },
        "id": "x-7dBXFbgxd9",
        "outputId": "ca000877-62c5-4c6f-e38d-42cd6e8388f9"
      },
      "outputs": [
        {
          "data": {
            "text/plain": [
              "Id                int64\n",
              "District         object\n",
              "Address          object\n",
              "Number           object\n",
              "Area             object\n",
              "Rent              int64\n",
              "Bedrooms        float64\n",
              "Sq.Mt             int64\n",
              "Floor           float64\n",
              "Outer           float64\n",
              "Elevator        float64\n",
              "Penthouse         int64\n",
              "Cottage           int64\n",
              "Duplex            int64\n",
              "Semidetached      int64\n",
              "dtype: object"
            ]
          },
          "execution_count": 3,
          "metadata": {},
          "output_type": "execute_result"
        }
      ],
      "source": [
        "data.dtypes"
      ]
    },
    {
      "cell_type": "code",
      "execution_count": 4,
      "metadata": {
        "colab": {
          "base_uri": "https://localhost:8080/",
          "height": 432
        },
        "id": "PSkvDhOzg5Jp",
        "outputId": "f0c28862-cfd1-418c-e631-d4ce922e4d8f"
      },
      "outputs": [
        {
          "data": {
            "text/html": [
              "<div>\n",
              "<style scoped>\n",
              "    .dataframe tbody tr th:only-of-type {\n",
              "        vertical-align: middle;\n",
              "    }\n",
              "\n",
              "    .dataframe tbody tr th {\n",
              "        vertical-align: top;\n",
              "    }\n",
              "\n",
              "    .dataframe thead th {\n",
              "        text-align: right;\n",
              "    }\n",
              "</style>\n",
              "<table border=\"1\" class=\"dataframe\">\n",
              "  <thead>\n",
              "    <tr style=\"text-align: right;\">\n",
              "      <th></th>\n",
              "      <th>Id</th>\n",
              "      <th>District</th>\n",
              "      <th>Address</th>\n",
              "      <th>Number</th>\n",
              "      <th>Area</th>\n",
              "      <th>Rent</th>\n",
              "      <th>Bedrooms</th>\n",
              "      <th>Sq.Mt</th>\n",
              "      <th>Floor</th>\n",
              "      <th>Outer</th>\n",
              "      <th>Elevator</th>\n",
              "      <th>Penthouse</th>\n",
              "      <th>Cottage</th>\n",
              "      <th>Duplex</th>\n",
              "      <th>Semidetached</th>\n",
              "    </tr>\n",
              "  </thead>\n",
              "  <tbody>\n",
              "    <tr>\n",
              "      <th>count</th>\n",
              "      <td>2089.000000</td>\n",
              "      <td>2089</td>\n",
              "      <td>2089</td>\n",
              "      <td>747</td>\n",
              "      <td>2085</td>\n",
              "      <td>2089.000000</td>\n",
              "      <td>2000.000000</td>\n",
              "      <td>2089.000000</td>\n",
              "      <td>1948.000000</td>\n",
              "      <td>1927.000000</td>\n",
              "      <td>1956.000000</td>\n",
              "      <td>2089.000000</td>\n",
              "      <td>2089.000000</td>\n",
              "      <td>2089.000000</td>\n",
              "      <td>2089.000000</td>\n",
              "    </tr>\n",
              "    <tr>\n",
              "      <th>unique</th>\n",
              "      <td>NaN</td>\n",
              "      <td>20</td>\n",
              "      <td>1336</td>\n",
              "      <td>137</td>\n",
              "      <td>140</td>\n",
              "      <td>NaN</td>\n",
              "      <td>NaN</td>\n",
              "      <td>NaN</td>\n",
              "      <td>NaN</td>\n",
              "      <td>NaN</td>\n",
              "      <td>NaN</td>\n",
              "      <td>NaN</td>\n",
              "      <td>NaN</td>\n",
              "      <td>NaN</td>\n",
              "      <td>NaN</td>\n",
              "    </tr>\n",
              "    <tr>\n",
              "      <th>top</th>\n",
              "      <td>NaN</td>\n",
              "      <td>Salamanca</td>\n",
              "      <td>Piso en Recoletos</td>\n",
              "      <td>1</td>\n",
              "      <td>Recoletos</td>\n",
              "      <td>NaN</td>\n",
              "      <td>NaN</td>\n",
              "      <td>NaN</td>\n",
              "      <td>NaN</td>\n",
              "      <td>NaN</td>\n",
              "      <td>NaN</td>\n",
              "      <td>NaN</td>\n",
              "      <td>NaN</td>\n",
              "      <td>NaN</td>\n",
              "      <td>NaN</td>\n",
              "    </tr>\n",
              "    <tr>\n",
              "      <th>freq</th>\n",
              "      <td>NaN</td>\n",
              "      <td>313</td>\n",
              "      <td>25</td>\n",
              "      <td>29</td>\n",
              "      <td>93</td>\n",
              "      <td>NaN</td>\n",
              "      <td>NaN</td>\n",
              "      <td>NaN</td>\n",
              "      <td>NaN</td>\n",
              "      <td>NaN</td>\n",
              "      <td>NaN</td>\n",
              "      <td>NaN</td>\n",
              "      <td>NaN</td>\n",
              "      <td>NaN</td>\n",
              "      <td>NaN</td>\n",
              "    </tr>\n",
              "    <tr>\n",
              "      <th>mean</th>\n",
              "      <td>1094.026807</td>\n",
              "      <td>NaN</td>\n",
              "      <td>NaN</td>\n",
              "      <td>NaN</td>\n",
              "      <td>NaN</td>\n",
              "      <td>1932.249402</td>\n",
              "      <td>2.483000</td>\n",
              "      <td>128.919579</td>\n",
              "      <td>25.662731</td>\n",
              "      <td>0.867151</td>\n",
              "      <td>0.880879</td>\n",
              "      <td>0.080900</td>\n",
              "      <td>0.042125</td>\n",
              "      <td>0.030637</td>\n",
              "      <td>0.013404</td>\n",
              "    </tr>\n",
              "    <tr>\n",
              "      <th>std</th>\n",
              "      <td>630.612544</td>\n",
              "      <td>NaN</td>\n",
              "      <td>NaN</td>\n",
              "      <td>NaN</td>\n",
              "      <td>NaN</td>\n",
              "      <td>1495.474485</td>\n",
              "      <td>1.305206</td>\n",
              "      <td>115.745014</td>\n",
              "      <td>975.065350</td>\n",
              "      <td>0.339500</td>\n",
              "      <td>0.324013</td>\n",
              "      <td>0.272747</td>\n",
              "      <td>0.200923</td>\n",
              "      <td>0.172373</td>\n",
              "      <td>0.115023</td>\n",
              "    </tr>\n",
              "    <tr>\n",
              "      <th>min</th>\n",
              "      <td>1.000000</td>\n",
              "      <td>NaN</td>\n",
              "      <td>NaN</td>\n",
              "      <td>NaN</td>\n",
              "      <td>NaN</td>\n",
              "      <td>450.000000</td>\n",
              "      <td>0.000000</td>\n",
              "      <td>15.000000</td>\n",
              "      <td>-1.000000</td>\n",
              "      <td>0.000000</td>\n",
              "      <td>0.000000</td>\n",
              "      <td>0.000000</td>\n",
              "      <td>0.000000</td>\n",
              "      <td>0.000000</td>\n",
              "      <td>0.000000</td>\n",
              "    </tr>\n",
              "    <tr>\n",
              "      <th>25%</th>\n",
              "      <td>550.000000</td>\n",
              "      <td>NaN</td>\n",
              "      <td>NaN</td>\n",
              "      <td>NaN</td>\n",
              "      <td>NaN</td>\n",
              "      <td>950.000000</td>\n",
              "      <td>2.000000</td>\n",
              "      <td>65.000000</td>\n",
              "      <td>2.000000</td>\n",
              "      <td>1.000000</td>\n",
              "      <td>1.000000</td>\n",
              "      <td>0.000000</td>\n",
              "      <td>0.000000</td>\n",
              "      <td>0.000000</td>\n",
              "      <td>0.000000</td>\n",
              "    </tr>\n",
              "    <tr>\n",
              "      <th>50%</th>\n",
              "      <td>1094.000000</td>\n",
              "      <td>NaN</td>\n",
              "      <td>NaN</td>\n",
              "      <td>NaN</td>\n",
              "      <td>NaN</td>\n",
              "      <td>1400.000000</td>\n",
              "      <td>2.000000</td>\n",
              "      <td>90.000000</td>\n",
              "      <td>3.000000</td>\n",
              "      <td>1.000000</td>\n",
              "      <td>1.000000</td>\n",
              "      <td>0.000000</td>\n",
              "      <td>0.000000</td>\n",
              "      <td>0.000000</td>\n",
              "      <td>0.000000</td>\n",
              "    </tr>\n",
              "    <tr>\n",
              "      <th>75%</th>\n",
              "      <td>1636.000000</td>\n",
              "      <td>NaN</td>\n",
              "      <td>NaN</td>\n",
              "      <td>NaN</td>\n",
              "      <td>NaN</td>\n",
              "      <td>2500.000000</td>\n",
              "      <td>3.000000</td>\n",
              "      <td>147.000000</td>\n",
              "      <td>5.000000</td>\n",
              "      <td>1.000000</td>\n",
              "      <td>1.000000</td>\n",
              "      <td>0.000000</td>\n",
              "      <td>0.000000</td>\n",
              "      <td>0.000000</td>\n",
              "      <td>0.000000</td>\n",
              "    </tr>\n",
              "    <tr>\n",
              "      <th>max</th>\n",
              "      <td>2188.000000</td>\n",
              "      <td>NaN</td>\n",
              "      <td>NaN</td>\n",
              "      <td>NaN</td>\n",
              "      <td>NaN</td>\n",
              "      <td>16000.000000</td>\n",
              "      <td>8.000000</td>\n",
              "      <td>1250.000000</td>\n",
              "      <td>43039.000000</td>\n",
              "      <td>1.000000</td>\n",
              "      <td>1.000000</td>\n",
              "      <td>1.000000</td>\n",
              "      <td>1.000000</td>\n",
              "      <td>1.000000</td>\n",
              "      <td>1.000000</td>\n",
              "    </tr>\n",
              "  </tbody>\n",
              "</table>\n",
              "</div>"
            ],
            "text/plain": [
              "                 Id   District            Address Number       Area  \\\n",
              "count   2089.000000       2089               2089    747       2085   \n",
              "unique          NaN         20               1336    137        140   \n",
              "top             NaN  Salamanca  Piso en Recoletos      1  Recoletos   \n",
              "freq            NaN        313                 25     29         93   \n",
              "mean    1094.026807        NaN                NaN    NaN        NaN   \n",
              "std      630.612544        NaN                NaN    NaN        NaN   \n",
              "min        1.000000        NaN                NaN    NaN        NaN   \n",
              "25%      550.000000        NaN                NaN    NaN        NaN   \n",
              "50%     1094.000000        NaN                NaN    NaN        NaN   \n",
              "75%     1636.000000        NaN                NaN    NaN        NaN   \n",
              "max     2188.000000        NaN                NaN    NaN        NaN   \n",
              "\n",
              "                Rent     Bedrooms        Sq.Mt         Floor        Outer  \\\n",
              "count    2089.000000  2000.000000  2089.000000   1948.000000  1927.000000   \n",
              "unique           NaN          NaN          NaN           NaN          NaN   \n",
              "top              NaN          NaN          NaN           NaN          NaN   \n",
              "freq             NaN          NaN          NaN           NaN          NaN   \n",
              "mean     1932.249402     2.483000   128.919579     25.662731     0.867151   \n",
              "std      1495.474485     1.305206   115.745014    975.065350     0.339500   \n",
              "min       450.000000     0.000000    15.000000     -1.000000     0.000000   \n",
              "25%       950.000000     2.000000    65.000000      2.000000     1.000000   \n",
              "50%      1400.000000     2.000000    90.000000      3.000000     1.000000   \n",
              "75%      2500.000000     3.000000   147.000000      5.000000     1.000000   \n",
              "max     16000.000000     8.000000  1250.000000  43039.000000     1.000000   \n",
              "\n",
              "           Elevator    Penthouse      Cottage       Duplex  Semidetached  \n",
              "count   1956.000000  2089.000000  2089.000000  2089.000000   2089.000000  \n",
              "unique          NaN          NaN          NaN          NaN           NaN  \n",
              "top             NaN          NaN          NaN          NaN           NaN  \n",
              "freq            NaN          NaN          NaN          NaN           NaN  \n",
              "mean       0.880879     0.080900     0.042125     0.030637      0.013404  \n",
              "std        0.324013     0.272747     0.200923     0.172373      0.115023  \n",
              "min        0.000000     0.000000     0.000000     0.000000      0.000000  \n",
              "25%        1.000000     0.000000     0.000000     0.000000      0.000000  \n",
              "50%        1.000000     0.000000     0.000000     0.000000      0.000000  \n",
              "75%        1.000000     0.000000     0.000000     0.000000      0.000000  \n",
              "max        1.000000     1.000000     1.000000     1.000000      1.000000  "
            ]
          },
          "execution_count": 4,
          "metadata": {},
          "output_type": "execute_result"
        }
      ],
      "source": [
        "data.describe(include='all')"
      ]
    },
    {
      "cell_type": "code",
      "execution_count": 5,
      "metadata": {
        "colab": {
          "base_uri": "https://localhost:8080/"
        },
        "id": "i6NLa-A4hRDM",
        "outputId": "9743675b-63b0-4b4e-815e-e2a2a2006429"
      },
      "outputs": [
        {
          "data": {
            "text/plain": [
              "(2089, 15)"
            ]
          },
          "execution_count": 5,
          "metadata": {},
          "output_type": "execute_result"
        }
      ],
      "source": [
        "data.shape"
      ]
    },
    {
      "cell_type": "markdown",
      "metadata": {
        "id": "IRuy7YuVQNQ-"
      },
      "source": [
        "## Part 1: Remove columns \"Id\", \"District\", \"Address\", \"Number\""
      ]
    },
    {
      "cell_type": "code",
      "execution_count": 6,
      "metadata": {},
      "outputs": [
        {
          "name": "stdout",
          "output_type": "stream",
          "text": [
            "                      Area  Rent  Bedrooms  Sq.Mt  Floor  Outer  Elevator  \\\n",
            "0     Malasaña-Universidad  2490       3.0     97    7.0    1.0       1.0   \n",
            "1                 Simancas  1300       3.0    110    4.0    1.0       1.0   \n",
            "2          Chueca-Justicia   800       NaN     33    NaN    NaN       0.0   \n",
            "3               San Isidro   600       1.0     45    2.0    1.0       1.0   \n",
            "4                  Acacias  1900       1.0     90    7.0    1.0       1.0   \n",
            "...                    ...   ...       ...    ...    ...    ...       ...   \n",
            "2084  Lavapiés-Embajadores  1450       3.0    100    4.0    1.0       1.0   \n",
            "2085            Marroquina   900       3.0     85    4.0    1.0       1.0   \n",
            "2086            Castellana  3500       5.0    300    3.0    1.0       1.0   \n",
            "2087              Arapiles  1299       2.0     90    0.0    0.0       1.0   \n",
            "2088            Valdezarza  1300       3.0    115    2.0    1.0       1.0   \n",
            "\n",
            "      Penthouse  Cottage  Duplex  Semidetached  \n",
            "0             1        0       0             0  \n",
            "1             0        0       0             0  \n",
            "2             0        0       0             0  \n",
            "3             0        0       0             0  \n",
            "4             1        0       0             0  \n",
            "...         ...      ...     ...           ...  \n",
            "2084          0        0       0             0  \n",
            "2085          0        0       0             0  \n",
            "2086          0        0       0             0  \n",
            "2087          0        0       0             0  \n",
            "2088          0        0       0             0  \n",
            "\n",
            "[2089 rows x 11 columns]\n"
          ]
        }
      ],
      "source": [
        "# Remove Id, Dstrict, Address, and Number\n",
        " \n",
        "columns_to_remove = [\"Id\", \"District\", \"Address\", \"Number\"]\n",
        "\n",
        "delete_tempo = data.drop(columns=columns_to_remove)\n",
        "\n",
        "print(delete_tempo)"
      ]
    },
    {
      "cell_type": "markdown",
      "metadata": {
        "id": "Ha4eutkuTptX"
      },
      "source": [
        "## Part 2: Imputate missing \"Bedrooms\", \"Floors\" and \"Sq.Mt\""
      ]
    },
    {
      "cell_type": "code",
      "execution_count": 7,
      "metadata": {},
      "outputs": [
        {
          "name": "stdout",
          "output_type": "stream",
          "text": [
            "        Id     District                                Address Number  \\\n",
            "0     1390       Centro     Ático en calle de Alberto Aguilera     11   \n",
            "1     1896     San Blás  Piso en calle Luis Sánchez Polack Tip    NaN   \n",
            "2     1366       Centro             Estudio en Chueca-Justicia    NaN   \n",
            "3     1407  Carabanchel                     Piso en San Isidro    NaN   \n",
            "4     1072   Arganzuela                       Ático en Acacias    NaN   \n",
            "...    ...          ...                                    ...    ...   \n",
            "2084  1392       Centro           Piso en Lavapiés-Embajadores    NaN   \n",
            "2085   560    Moratalaz                     Piso en Marroquina    NaN   \n",
            "2086  1019    Salamanca                     Piso en Castellana    NaN   \n",
            "2087  1837     Chamberí                       Piso en Arapiles    NaN   \n",
            "2088   452      Moncloa          Piso en calle Isla Cristina 8    NaN   \n",
            "\n",
            "                      Area  Rent  Bedrooms  Sq.Mt      Floor  Outer  Elevator  \\\n",
            "0     Malasaña-Universidad  2490     3.000   97.0   7.000000    1.0       1.0   \n",
            "1                 Simancas  1300     3.000  110.0   4.000000    1.0       1.0   \n",
            "2          Chueca-Justicia   800     2.483   33.0  25.662731    NaN       0.0   \n",
            "3               San Isidro   600     1.000   45.0   2.000000    1.0       1.0   \n",
            "4                  Acacias  1900     1.000   90.0   7.000000    1.0       1.0   \n",
            "...                    ...   ...       ...    ...        ...    ...       ...   \n",
            "2084  Lavapiés-Embajadores  1450     3.000  100.0   4.000000    1.0       1.0   \n",
            "2085            Marroquina   900     3.000   85.0   4.000000    1.0       1.0   \n",
            "2086            Castellana  3500     5.000  300.0   3.000000    1.0       1.0   \n",
            "2087              Arapiles  1299     2.000   90.0   0.000000    0.0       1.0   \n",
            "2088            Valdezarza  1300     3.000  115.0   2.000000    1.0       1.0   \n",
            "\n",
            "      Penthouse  Cottage  Duplex  Semidetached  \n",
            "0             1        0       0             0  \n",
            "1             0        0       0             0  \n",
            "2             0        0       0             0  \n",
            "3             0        0       0             0  \n",
            "4             1        0       0             0  \n",
            "...         ...      ...     ...           ...  \n",
            "2084          0        0       0             0  \n",
            "2085          0        0       0             0  \n",
            "2086          0        0       0             0  \n",
            "2087          0        0       0             0  \n",
            "2088          0        0       0             0  \n",
            "\n",
            "[2089 rows x 15 columns]\n"
          ]
        }
      ],
      "source": [
        "# Imputate missing Bedrooms, Floors and Area\n",
        "\n",
        "from sklearn.impute import SimpleImputer\n",
        "\n",
        "# Imputate\n",
        "columns_to_impute = [\"Bedrooms\", \"Floor\", \"Sq.Mt\"]\n",
        "\n",
        "imputer = SimpleImputer(strategy='mean')\n",
        "\n",
        "data[columns_to_impute] = imputer.fit_transform(data[columns_to_impute])\n",
        "\n",
        "print(data)\n"
      ]
    },
    {
      "cell_type": "markdown",
      "metadata": {
        "id": "3gMLFPUQVM6W"
      },
      "source": [
        "## Part 3: Remove all rows with a missing value.\n",
        "(Note: \"Bedrooms\", \"Floor\" and \"Area\" should not have missing value because of the imputation in the last part)."
      ]
    },
    {
      "cell_type": "code",
      "execution_count": 8,
      "metadata": {},
      "outputs": [
        {
          "name": "stdout",
          "output_type": "stream",
          "text": [
            "        Id       District                                        Address  \\\n",
            "0     1390         Centro             Ático en calle de Alberto Aguilera   \n",
            "6     1166         Centro             Piso en plaza del Conde de Miranda   \n",
            "10    1445    Carabanchel                         Piso en calle Alcaudón   \n",
            "13     448        Moncloa  Piso en calle del Doctor Juan José López Ibor   \n",
            "15    2125          Usera                     Piso en calle del petróleo   \n",
            "...    ...            ...                                            ...   \n",
            "2074  2130      Vicálvaro                  Piso en calle de San Cipriano   \n",
            "2079  1699       Chamberí                       Ático en calle Monteleón   \n",
            "2080  1789       Chamberí                       Piso en calle de almagro   \n",
            "2082    16  Ciudad Lineal                Ático en calle natalia de silva   \n",
            "2083  1411    Carabanchel                          Piso en calle alondra   \n",
            "\n",
            "     Number                         Area  Rent  Bedrooms  Sq.Mt  Floor  Outer  \\\n",
            "0        11         Malasaña-Universidad  2490       3.0   97.0    7.0    1.0   \n",
            "6         4                      Palacio  1650       2.0  107.0    3.0    1.0   \n",
            "10       49                   San Isidro   600       2.0   60.0    0.0    0.0   \n",
            "13       16                   Valdezarza  2490       3.0  110.0    3.0    1.0   \n",
            "15       15        12 de Octubre-Orcasur   780       1.0   53.0    1.0    1.0   \n",
            "...     ...                          ...   ...       ...    ...    ...    ...   \n",
            "2074     67  Valdebernardo - Valderribas   850       2.0   70.0    3.0    1.0   \n",
            "2079     35                     Arapiles   750       1.0   36.0    5.0    0.0   \n",
            "2080     11                      Almagro  2025       1.0   40.0    4.0    1.0   \n",
            "2082      1                   Concepción   990       2.0   70.0    3.0    1.0   \n",
            "2083      3                 Vista Alegre   590       2.0   60.0    1.0    1.0   \n",
            "\n",
            "      Elevator  Penthouse  Cottage  Duplex  Semidetached  \n",
            "0          1.0          1        0       0             0  \n",
            "6          1.0          0        0       0             0  \n",
            "10         0.0          0        0       0             0  \n",
            "13         1.0          0        0       0             0  \n",
            "15         1.0          0        0       0             0  \n",
            "...        ...        ...      ...     ...           ...  \n",
            "2074       1.0          0        0       0             0  \n",
            "2079       1.0          1        0       0             0  \n",
            "2080       1.0          0        0       0             0  \n",
            "2082       1.0          1        0       0             0  \n",
            "2083       0.0          0        0       0             0  \n",
            "\n",
            "[736 rows x 15 columns]\n"
          ]
        }
      ],
      "source": [
        "data.dropna(axis=0, inplace=True)\n",
        "\n",
        "print(data)\n"
      ]
    },
    {
      "cell_type": "markdown",
      "metadata": {
        "id": "yiRNP54wcepF"
      },
      "source": [
        "## Part 4: Plot a histogram of Bedrooms, Floor and Sq.Mt"
      ]
    },
    {
      "cell_type": "code",
      "execution_count": 9,
      "metadata": {},
      "outputs": [
        {
          "data": {
            "image/png": "[encoded data removed]",
            "text/plain": [
              "<Figure size 800x600 with 1 Axes>"
            ]
          },
          "metadata": {},
          "output_type": "display_data"
        },
        {
          "data": {
            "image/png": "[encoded data removed]",
            "text/plain": [
              "<Figure size 800x600 with 1 Axes>"
            ]
          },
          "metadata": {},
          "output_type": "display_data"
        },
        {
          "data": {
            "image/png": "[encoded data removed]",
            "text/plain": [
              "<Figure size 800x600 with 1 Axes>"
            ]
          },
          "metadata": {},
          "output_type": "display_data"
        }
      ],
      "source": [
        "import matplotlib.pyplot as plt \n",
        "\n",
        "columns_to_plot = ['Bedrooms', 'Floor', 'Sq.Mt']\n",
        "\n",
        "for column in columns_to_plot:\n",
        "    plt.figure(figsize=(8, 6))\n",
        "    plt.hist(data[column].dropna(), bins=20, color='blue', edgecolor='black')\n",
        "    plt.title(f'Histogram of {column}')\n",
        "    plt.xlabel(column)\n",
        "    plt.ylabel('Frequency')\n",
        "    plt.grid(True)\n",
        "    plt.show()"
      ]
    },
    {
      "cell_type": "markdown",
      "metadata": {
        "id": "oMCffPlKdAKN"
      },
      "source": [
        "## Part 5:Remove all rows with Floor>20"
      ]
    },
    {
      "cell_type": "code",
      "execution_count": 10,
      "metadata": {},
      "outputs": [
        {
          "name": "stdout",
          "output_type": "stream",
          "text": [
            "        Id       District                                        Address  \\\n",
            "0     1390         Centro             Ático en calle de Alberto Aguilera   \n",
            "6     1166         Centro             Piso en plaza del Conde de Miranda   \n",
            "10    1445    Carabanchel                         Piso en calle Alcaudón   \n",
            "13     448        Moncloa  Piso en calle del Doctor Juan José López Ibor   \n",
            "15    2125          Usera                     Piso en calle del petróleo   \n",
            "...    ...            ...                                            ...   \n",
            "2074  2130      Vicálvaro                  Piso en calle de San Cipriano   \n",
            "2079  1699       Chamberí                       Ático en calle Monteleón   \n",
            "2080  1789       Chamberí                       Piso en calle de almagro   \n",
            "2082    16  Ciudad Lineal                Ático en calle natalia de silva   \n",
            "2083  1411    Carabanchel                          Piso en calle alondra   \n",
            "\n",
            "     Number                         Area  Rent  Bedrooms  Sq.Mt  Floor  Outer  \\\n",
            "0        11         Malasaña-Universidad  2490       3.0   97.0    7.0    1.0   \n",
            "6         4                      Palacio  1650       2.0  107.0    3.0    1.0   \n",
            "10       49                   San Isidro   600       2.0   60.0    0.0    0.0   \n",
            "13       16                   Valdezarza  2490       3.0  110.0    3.0    1.0   \n",
            "15       15        12 de Octubre-Orcasur   780       1.0   53.0    1.0    1.0   \n",
            "...     ...                          ...   ...       ...    ...    ...    ...   \n",
            "2074     67  Valdebernardo - Valderribas   850       2.0   70.0    3.0    1.0   \n",
            "2079     35                     Arapiles   750       1.0   36.0    5.0    0.0   \n",
            "2080     11                      Almagro  2025       1.0   40.0    4.0    1.0   \n",
            "2082      1                   Concepción   990       2.0   70.0    3.0    1.0   \n",
            "2083      3                 Vista Alegre   590       2.0   60.0    1.0    1.0   \n",
            "\n",
            "      Elevator  Penthouse  Cottage  Duplex  Semidetached  \n",
            "0          1.0          1        0       0             0  \n",
            "6          1.0          0        0       0             0  \n",
            "10         0.0          0        0       0             0  \n",
            "13         1.0          0        0       0             0  \n",
            "15         1.0          0        0       0             0  \n",
            "...        ...        ...      ...     ...           ...  \n",
            "2074       1.0          0        0       0             0  \n",
            "2079       1.0          1        0       0             0  \n",
            "2080       1.0          0        0       0             0  \n",
            "2082       1.0          1        0       0             0  \n",
            "2083       0.0          0        0       0             0  \n",
            "\n",
            "[732 rows x 15 columns]\n"
          ]
        }
      ],
      "source": [
        "# Set the value for 'Floor' of <= 20\n",
        "data = data[data['Floor'] <= 20]\n",
        "\n",
        "print(data)"
      ]
    },
    {
      "cell_type": "markdown",
      "metadata": {
        "id": "1FPMz0gKVhZa"
      },
      "source": [
        "## Part 6: Split data to train (70%) and val (15%) and test (15%)\n"
      ]
    },
    {
      "cell_type": "code",
      "execution_count": 11,
      "metadata": {},
      "outputs": [
        {
          "name": "stdout",
          "output_type": "stream",
          "text": [
            "Train set size:  512\n",
            "Validation set size:  110\n",
            "Test set size:  110\n"
          ]
        }
      ],
      "source": [
        "from sklearn.model_selection import train_test_split\n",
        "\n",
        "# Choose 'Rent' as target column\n",
        "target_column = 'Rent'\n",
        "\n",
        "# Split data into train, val, and test sets\n",
        "train_data, temp_data = train_test_split(data, test_size=0.3, random_state=42)\n",
        "val_data, test_data = train_test_split(temp_data, test_size=0.5, random_state=42)\n",
        "\n",
        "# Display the sizes\n",
        "print('Train set size: ', len(train_data))\n",
        "print('Validation set size: ', len(val_data))\n",
        "print('Test set size: ', len(test_data))"
      ]
    },
    {
      "cell_type": "markdown",
      "metadata": {
        "id": "WFFVYMShVu9o"
      },
      "source": [
        "## Part 7: Impact encode \"Area\" with respect to target variable (\"Rent\"), replacing the original column with the encoded column.\n",
        "\n",
        "Note that the encoding is computed only using the training set, but must be applied to the val and test set as well.  If the val/test set contain rows with \"Area\" that was not observed in the training, then the encoding cannot be computed for those rows, and they should be removed."
      ]
    },
    {
      "cell_type": "code",
      "execution_count": 12,
      "metadata": {
        "id": "6e07HJ5AfkG9"
      },
      "outputs": [
        {
          "name": "stdout",
          "output_type": "stream",
          "text": [
            "Training set:\n",
            "        Id       District                           Address Number  \\\n",
            "633     98  Ciudad Lineal   Dúplex en calle de Átngel Muñoz     22   \n",
            "1965   469        Moncloa        Piso en calle Valdeverdeja     33   \n",
            "1861  1099        Barajas        Piso en avenida de Logroño    112   \n",
            "451   1084        Barajas      Piso en calle del Gran Poder     14   \n",
            "1085  2039         Tetuán           Piso en calle de Orense     69   \n",
            "...    ...            ...                               ...    ...   \n",
            "229   1296         Centro            Piso en calle Zorrilla     23   \n",
            "303   1698       Chamberí  Estudio en calle Marqués de Lema      7   \n",
            "768    965      Salamanca         Piso en Conde de Peñalver     88   \n",
            "1202  2027         Tetuán             Piso en calle Robledo      4   \n",
            "287   1227         Centro            Piso en calle Mancebos      8   \n",
            "\n",
            "             Area  Rent  Bedrooms  Sq.Mt  Floor  Outer  Elevator  Penthouse  \\\n",
            "633   1354.166667  1300     1.000   95.0    4.0    1.0       1.0          0   \n",
            "1965  1802.500000  1600     4.000  120.0    2.0    1.0       1.0          0   \n",
            "1861  1172.222222   950     2.000   80.0    4.0    1.0       1.0          0   \n",
            "451   1172.222222   750     2.000   75.0    0.0    1.0       0.0          0   \n",
            "1085  1503.400000  1210     1.000   65.0    4.0    1.0       1.0          0   \n",
            "...           ...   ...       ...    ...    ...    ...       ...        ...   \n",
            "229   1527.272727  1300     1.000   60.0    4.0    1.0       1.0          0   \n",
            "303   2100.833333   600     2.483   35.0    3.0    1.0       1.0          0   \n",
            "768   1897.000000  1200     2.000   80.0    3.0    1.0       1.0          0   \n",
            "1202  1392.500000  1050     1.000   65.0    5.0    1.0       1.0          0   \n",
            "287   1835.625000  1350     2.000   75.0    3.0    1.0       0.0          0   \n",
            "\n",
            "      Cottage  Duplex  Semidetached  \n",
            "633         0       1             0  \n",
            "1965        0       0             0  \n",
            "1861        0       0             0  \n",
            "451         0       0             0  \n",
            "1085        0       0             0  \n",
            "...       ...     ...           ...  \n",
            "229         0       0             0  \n",
            "303         0       0             0  \n",
            "768         0       0             0  \n",
            "1202        0       0             0  \n",
            "287         0       0             0  \n",
            "\n",
            "[512 rows x 15 columns]\n",
            "\n",
            "Validation set:\n",
            "        Id   District                                Address Number  \\\n",
            "1680   257  Hortaleza       Piso en avenida Isabel de Valois     80   \n",
            "128    918  Salamanca  Piso en calle de Don Ramón de la Cruz     93   \n",
            "1406  1718   Chamberí                     Piso en Espronceda     23   \n",
            "1998  1398     Centro                Estudio en calle Aduana     27   \n",
            "584   2133  Vicálvaro                Piso en calle Marmolina     22   \n",
            "...    ...        ...                                    ...    ...   \n",
            "1979  2090     Tetuán                 Piso en plaza Manolete      2   \n",
            "144   1580  Chamartín  Piso en calle Antonio Rodriguez Villa     17   \n",
            "1007  1968     Tetuán          Piso en calle Reyes Aizquibel     22   \n",
            "202    787  Salamanca      Piso en calle del Doctor Esquerdo     37   \n",
            "1947   689     Retiro                        Piso en Granada     12   \n",
            "\n",
            "             Area  Rent  Bedrooms  Sq.Mt  Floor  Outer  Elevator  Penthouse  \\\n",
            "1680  1431.125000  1400     3.000  110.0    1.0    1.0       1.0          0   \n",
            "128   1897.000000  2430     2.000   47.0    5.0    0.0       1.0          0   \n",
            "1406  1022.375000  2800     3.000  140.0    5.0    1.0       1.0          0   \n",
            "1998  1489.090909  1350     2.483   90.0    4.0    1.0       0.0          0   \n",
            "584    837.500000  1100     3.000  115.0    1.0    1.0       1.0          0   \n",
            "...           ...   ...       ...    ...    ...    ...       ...        ...   \n",
            "1979  1122.916667  1300     2.000   70.0   11.0    1.0       1.0          0   \n",
            "144   1725.000000  1900     2.000  119.0    1.0    1.0       1.0          0   \n",
            "1007  1392.500000   975     3.000   95.0    2.0    1.0       0.0          0   \n",
            "202   1550.000000  1300     2.000   75.0    5.0    1.0       1.0          0   \n",
            "1947  1125.000000   800     2.000   49.0    1.0    0.0       1.0          0   \n",
            "\n",
            "      Cottage  Duplex  Semidetached  \n",
            "1680        0       0             0  \n",
            "128         0       0             0  \n",
            "1406        0       0             0  \n",
            "1998        0       0             0  \n",
            "584         0       0             0  \n",
            "...       ...     ...           ...  \n",
            "1979        0       0             0  \n",
            "144         0       0             0  \n",
            "1007        0       0             0  \n",
            "202         0       0             0  \n",
            "1947        0       0             0  \n",
            "\n",
            "[101 rows x 15 columns]\n",
            "\n",
            "Test set:\n",
            "        Id    District                               Address Number  \\\n",
            "1957  1977      Tetuán              Piso en calle de hernani     51   \n",
            "719   1069  Arganzuela         Piso en calle de las Penuelas     34   \n",
            "1171   155  Fuencarral     Piso en calle Hospital de Á“rbigo      1   \n",
            "146   1502   Chamartín             Piso en calle San Ernesto     14   \n",
            "239    730   Salamanca    Piso en calle del General Pardiñas    s/n   \n",
            "...    ...         ...                                   ...    ...   \n",
            "918   1249      Centro                  Ático en san agustin     18   \n",
            "1031  1381      Centro     Piso en calle del Doctor Fourquet     20   \n",
            "1715   524     Moncloa             Piso en calle Ilustración     21   \n",
            "991    872   Salamanca  Estudio en calle de Francisco Remiro      5   \n",
            "487   1049  Arganzuela            Piso en calle del mezquite    s/n   \n",
            "\n",
            "             Area  Rent  Bedrooms  Sq.Mt  Floor  Outer  Elevator  Penthouse  \\\n",
            "1957  1122.916667   990     3.000   80.0    2.0    1.0       1.0          0   \n",
            "719   1450.000000   999     1.000   30.0    3.0    0.0       0.0          0   \n",
            "1171  1254.500000  1100     2.000   90.0    2.0    1.0       1.0          0   \n",
            "146   1783.333333  1650     4.000  107.0    3.0    1.0       1.0          0   \n",
            "239   2148.611111  1000     1.000   65.0    4.0    1.0       1.0          0   \n",
            "...           ...   ...       ...    ...    ...    ...       ...        ...   \n",
            "918   1527.272727  2160     1.000   65.0    5.0    1.0       1.0          1   \n",
            "1031  1262.666667   750     1.000   35.0    0.0    0.0       0.0          0   \n",
            "1715  1856.388889  1550     2.000  110.0    3.0    1.0       1.0          0   \n",
            "991   1054.285714   685     2.483   49.0    1.0    1.0       1.0          0   \n",
            "487   1337.500000  1060     2.000   65.0    3.0    1.0       1.0          0   \n",
            "\n",
            "      Cottage  Duplex  Semidetached  \n",
            "1957        0       0             0  \n",
            "719         0       0             0  \n",
            "1171        0       0             0  \n",
            "146         0       0             0  \n",
            "239         0       0             0  \n",
            "...       ...     ...           ...  \n",
            "918         0       0             0  \n",
            "1031        0       0             0  \n",
            "1715        0       0             0  \n",
            "991         0       0             0  \n",
            "487         0       0             0  \n",
            "\n",
            "[103 rows x 15 columns]\n"
          ]
        }
      ],
      "source": [
        "from sklearn.model_selection import train_test_split\n",
        "\n",
        "target_column = 'Rent'\n",
        "area_column = 'Area'\n",
        "\n",
        "# Split the data into train, val, and test sets\n",
        "train_data, temp_data = train_test_split(data, test_size=0.3, random_state=42)\n",
        "val_data, test_data = train_test_split(temp_data, test_size=0.5, random_state=42)\n",
        "\n",
        "# Compute impact encoding for 'Area' using the training set\n",
        "area_means = train_data.groupby(area_column)[target_column].mean()\n",
        "area_encoding = area_means.to_dict()\n",
        "\n",
        "# Apply encoding to the training, validation, and test sets\n",
        "train_data[area_column] = train_data[area_column].map(area_encoding)\n",
        "val_data[area_column] = val_data[area_column].map(area_encoding)\n",
        "test_data[area_column] = test_data[area_column].map(area_encoding)\n",
        "\n",
        "# Remove rows from val and test where 'Area' values were not observed in the training set\n",
        "val_data = val_data[val_data[area_column].notna()]\n",
        "test_data = test_data[test_data[area_column].notna()]\n",
        "\n",
        "# Display dataset\n",
        "print(\"Training set:\")\n",
        "print(train_data)\n",
        "print(\"\\nValidation set:\")\n",
        "print(val_data)\n",
        "print(\"\\nTest set:\")\n",
        "print(test_data)"
      ]
    }
  ],
  "metadata": {
    "colab": {
      "provenance": []
    },
    "kernelspec": {
      "display_name": "Python 3",
      "name": "python3"
    },
    "language_info": {
      "codemirror_mode": {
        "name": "ipython",
        "version": 3
      },
      "file_extension": ".py",
      "mimetype": "text/x-python",
      "name": "python",
      "nbconvert_exporter": "python",
      "pygments_lexer": "ipython3",
      "version": "3.11.5"
    }
  },
  "nbformat": 4,
  "nbformat_minor": 0
}
