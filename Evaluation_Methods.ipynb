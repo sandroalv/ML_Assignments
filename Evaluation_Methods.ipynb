{
  "cells": [
    {
      "cell_type": "markdown",
      "metadata": {
        "id": "FTB5p-ewT1iF"
      },
      "source": [
        "# Evaluation Metrics and Scoring\n",
        "\n",
        "We will use the widely popular sklearn library to demonstrate how evaluation metrics work.  It should be noted that there are multiple ways to perform evaluation in sklearn.  First, each ML algorithm implemented in sklearn comes with its own evaluation method \"out of the box\".  This will be demonstrated down the road in the course, when we use these algoriths.\n",
        "The second, which is featured in this notebook, is by using sklearn.metrics.\n",
        "\n",
        "For a complete reference, refer to:\n",
        "https://scikit-learn.org/stable/modules/model_evaluation.html#classification-metrics"
      ]
    },
    {
      "cell_type": "code",
      "execution_count": 1,
      "metadata": {
        "id": "v1D4bae4eSd5"
      },
      "outputs": [],
      "source": [
        "import pandas as pd\n",
        "import numpy as np\n",
        "import matplotlib.pyplot as plt"
      ]
    },
    {
      "cell_type": "markdown",
      "metadata": {
        "id": "7Vr7rnyXUC6A"
      },
      "source": [
        "## Regression Evaluation Metrics"
      ]
    },
    {
      "cell_type": "code",
      "execution_count": 2,
      "metadata": {
        "id": "GMITc5JmT55J"
      },
      "outputs": [],
      "source": [
        "# Let's create a small toy dataset containing labels (y) and predictions\n",
        "# (y_hat) only.  We will not be needing features here.\n",
        "# The data here will be stored in numpy arrays, although generally\n",
        "# you can apply the sklearn evaluation metrics on pandas Series (columns of\n",
        "# dataframes) or even python lists.\n",
        "y = np.array([1.0, 2.0, 3.0, 4.0, 5.0])\n",
        "y_hat = np.array([1.0, 2.5, 2.7, 5.0, 5.5])\n"
      ]
    },
    {
      "cell_type": "code",
      "execution_count": 3,
      "metadata": {
        "colab": {
          "base_uri": "https://localhost:8080/"
        },
        "id": "TwQ0OiemLhh8",
        "outputId": "8efd720b-1660-4887-e335-cc4ab19c69f9"
      },
      "outputs": [
        {
          "data": {
            "text/plain": [
              "0.31799999999999995"
            ]
          },
          "execution_count": 3,
          "metadata": {},
          "output_type": "execute_result"
        }
      ],
      "source": [
        "from sklearn.metrics import mean_squared_error\n",
        "mean_squared_error(y, y_hat)"
      ]
    },
    {
      "cell_type": "code",
      "execution_count": 4,
      "metadata": {
        "colab": {
          "base_uri": "https://localhost:8080/"
        },
        "id": "yK7VCvt7MFmN",
        "outputId": "3d64ec81-1d7f-41d8-f8c5-2e1465c264f1"
      },
      "outputs": [
        {
          "data": {
            "text/plain": [
              "0.31799999999999995"
            ]
          },
          "execution_count": 4,
          "metadata": {},
          "output_type": "execute_result"
        }
      ],
      "source": [
        "# Verify that you get the same as below:\n",
        "MSE = np.mean(np.square(y-y_hat))\n",
        "MSE"
      ]
    },
    {
      "cell_type": "code",
      "execution_count": 5,
      "metadata": {
        "colab": {
          "base_uri": "https://localhost:8080/"
        },
        "id": "HUyV_cNKMQRL",
        "outputId": "bd20f690-201f-4d54-c0c5-afeb225e3f44"
      },
      "outputs": [
        {
          "data": {
            "text/plain": [
              "0.45999999999999996"
            ]
          },
          "execution_count": 5,
          "metadata": {},
          "output_type": "execute_result"
        }
      ],
      "source": [
        "from sklearn.metrics import mean_absolute_error\n",
        "\n",
        "MAE = mean_absolute_error(y, y_hat)\n",
        "MAE"
      ]
    },
    {
      "cell_type": "code",
      "execution_count": 6,
      "metadata": {
        "colab": {
          "base_uri": "https://localhost:8080/"
        },
        "id": "XhjlxCQ_MdX_",
        "outputId": "7cab9483-bd86-4513-dbe7-f0293cfd4a16"
      },
      "outputs": [
        {
          "data": {
            "text/plain": [
              "0.45999999999999996"
            ]
          },
          "execution_count": 6,
          "metadata": {},
          "output_type": "execute_result"
        }
      ],
      "source": [
        "# Verify it's the same\n",
        "np.mean(np.abs(y-y_hat))"
      ]
    },
    {
      "cell_type": "code",
      "execution_count": 7,
      "metadata": {
        "colab": {
          "base_uri": "https://localhost:8080/"
        },
        "id": "sm1r6cOxohjr",
        "outputId": "233674a0-63f9-4c41-eb08-1e3c29e2a42c"
      },
      "outputs": [
        {
          "data": {
            "text/plain": [
              "0.13999999999999996"
            ]
          },
          "execution_count": 7,
          "metadata": {},
          "output_type": "execute_result"
        }
      ],
      "source": [
        "from sklearn.metrics import mean_absolute_percentage_error\n",
        "\n",
        "MAPE = mean_absolute_percentage_error(y, y_hat)\n",
        "MAPE"
      ]
    },
    {
      "cell_type": "code",
      "execution_count": 8,
      "metadata": {
        "colab": {
          "base_uri": "https://localhost:8080/"
        },
        "id": "-d1qynqZouN2",
        "outputId": "401d132a-250a-48c3-8805-c2e649ba8d3c"
      },
      "outputs": [
        {
          "data": {
            "text/plain": [
              "0.13999999999999996"
            ]
          },
          "execution_count": 8,
          "metadata": {},
          "output_type": "execute_result"
        }
      ],
      "source": [
        "# Verify it's the same\n",
        "np.mean(np.abs(y - y_hat)/np.abs(y))"
      ]
    },
    {
      "cell_type": "code",
      "execution_count": 9,
      "metadata": {
        "id": "xAdNR1pOMfK0"
      },
      "outputs": [
        {
          "data": {
            "text/plain": [
              "0.841"
            ]
          },
          "execution_count": 9,
          "metadata": {},
          "output_type": "execute_result"
        }
      ],
      "source": [
        "from sklearn.metrics import r2_score\n",
        "r2_score(y, y_hat)"
      ]
    },
    {
      "cell_type": "code",
      "execution_count": 10,
      "metadata": {
        "id": "D2LiIM81QSzO"
      },
      "outputs": [
        {
          "data": {
            "text/plain": [
              "0.841"
            ]
          },
          "execution_count": 10,
          "metadata": {},
          "output_type": "execute_result"
        }
      ],
      "source": [
        "# verify it's the same\n",
        "1 - MSE / np.var(y)"
      ]
    },
    {
      "cell_type": "markdown",
      "metadata": {
        "id": "JiBUtYHuSROb"
      },
      "source": [
        "## Classification - Hard Prediction"
      ]
    },
    {
      "cell_type": "code",
      "execution_count": 11,
      "metadata": {
        "id": "HijNO_0-QulK"
      },
      "outputs": [],
      "source": [
        "y = np.array([1,1,1,1,1,1,1,1,-1,-1,-1,-1,-1,-1,-1,-1])\n",
        "y_hat = np.array([1,1,1,-1,1,1,-1,-1,1,-1,-1,-1,-1,-1,-1,-1])\n"
      ]
    },
    {
      "cell_type": "code",
      "execution_count": 12,
      "metadata": {
        "id": "Y3Ct7HulSkG8"
      },
      "outputs": [
        {
          "data": {
            "text/plain": [
              "0.75"
            ]
          },
          "execution_count": 12,
          "metadata": {},
          "output_type": "execute_result"
        }
      ],
      "source": [
        "from sklearn.metrics import accuracy_score\n",
        "accuracy_score(y, y_hat)"
      ]
    },
    {
      "cell_type": "code",
      "execution_count": 13,
      "metadata": {
        "id": "MIBGovEoSp8J"
      },
      "outputs": [
        {
          "data": {
            "text/plain": [
              "0.75"
            ]
          },
          "execution_count": 13,
          "metadata": {},
          "output_type": "execute_result"
        }
      ],
      "source": [
        "# Verify that it is the same as below.\n",
        "# \"y==y_hat\" is an array of True/False, with \"True\" at indices where the two\n",
        "# arrays are equal, and  False otherwise.  The \"np.sum\" of that is the number\n",
        "# of \"True\"s, beacuse when you sum up booleans, the Trues are interpreted as 1's\n",
        "# and the Falses are 0's.\n",
        "np.sum(y == y_hat)/len(y)"
      ]
    },
    {
      "cell_type": "code",
      "execution_count": 14,
      "metadata": {
        "id": "n3w2AYWvSra6"
      },
      "outputs": [
        {
          "data": {
            "text/plain": [
              "0.25"
            ]
          },
          "execution_count": 14,
          "metadata": {},
          "output_type": "execute_result"
        }
      ],
      "source": [
        "# Error rate\n",
        "from sklearn.metrics import zero_one_loss\n",
        "zero_one_loss(y, y_hat)"
      ]
    },
    {
      "cell_type": "code",
      "execution_count": 15,
      "metadata": {
        "id": "oTuUiKdrSt33"
      },
      "outputs": [
        {
          "data": {
            "text/plain": [
              "0.25"
            ]
          },
          "execution_count": 15,
          "metadata": {},
          "output_type": "execute_result"
        }
      ],
      "source": [
        "# Verify it's the same\n",
        "np.sum(y != y_hat)/len(y)"
      ]
    },
    {
      "cell_type": "code",
      "execution_count": 16,
      "metadata": {
        "id": "F666aR1eVuCN"
      },
      "outputs": [
        {
          "data": {
            "text/plain": [
              "array([[7, 1],\n",
              "       [3, 5]])"
            ]
          },
          "execution_count": 16,
          "metadata": {},
          "output_type": "execute_result"
        }
      ],
      "source": [
        "from sklearn.metrics import confusion_matrix\n",
        "conf = confusion_matrix(y, y_hat)\n",
        "conf"
      ]
    },
    {
      "cell_type": "code",
      "execution_count": 17,
      "metadata": {
        "id": "s7GmNYvtV0x3"
      },
      "outputs": [
        {
          "data": {
            "text/plain": [
              "array([[7, 1],\n",
              "       [3, 5]])"
            ]
          },
          "execution_count": 17,
          "metadata": {},
          "output_type": "execute_result"
        }
      ],
      "source": [
        "# Check that it is the same\n",
        "TN, FP, FN, TP = \\\n",
        "    np.sum((y==-1)*(y_hat==-1)), np.sum((y==-1)*(y_hat==1)), \\\n",
        "    np.sum((y==1)*(y_hat==-1)), np.sum((y==1)*(y_hat==1))\n",
        "np.array([[TN, FP],\n",
        "          [FN, TP]])"
      ]
    },
    {
      "cell_type": "code",
      "execution_count": 18,
      "metadata": {
        "id": "lkudJrnbTS4j"
      },
      "outputs": [
        {
          "data": {
            "text/plain": [
              "0.8333333333333334"
            ]
          },
          "execution_count": 18,
          "metadata": {},
          "output_type": "execute_result"
        }
      ],
      "source": [
        "from sklearn.metrics import precision_score\n",
        "precision = precision_score(y, y_hat)\n",
        "precision"
      ]
    },
    {
      "cell_type": "code",
      "execution_count": 19,
      "metadata": {
        "id": "nVmtP47pTqNR"
      },
      "outputs": [
        {
          "data": {
            "text/plain": [
              "0.8333333333333334"
            ]
          },
          "execution_count": 19,
          "metadata": {},
          "output_type": "execute_result"
        }
      ],
      "source": [
        "# Verify it's the same\n",
        "TP/(TP+FP)"
      ]
    },
    {
      "cell_type": "code",
      "execution_count": 20,
      "metadata": {
        "id": "SRSnQHW7T8F-"
      },
      "outputs": [
        {
          "data": {
            "text/plain": [
              "0.625"
            ]
          },
          "execution_count": 20,
          "metadata": {},
          "output_type": "execute_result"
        }
      ],
      "source": [
        "from sklearn.metrics import recall_score\n",
        "recall = recall_score(y, y_hat)\n",
        "recall"
      ]
    },
    {
      "cell_type": "code",
      "execution_count": 21,
      "metadata": {
        "id": "roe5M5JOUJgI"
      },
      "outputs": [
        {
          "data": {
            "text/plain": [
              "0.625"
            ]
          },
          "execution_count": 21,
          "metadata": {},
          "output_type": "execute_result"
        }
      ],
      "source": [
        "# Verify it's the same\n",
        "TP/(TP+FN)"
      ]
    },
    {
      "cell_type": "code",
      "execution_count": 22,
      "metadata": {
        "id": "5vJLpGSrVQsZ"
      },
      "outputs": [
        {
          "data": {
            "text/plain": [
              "0.7142857142857143"
            ]
          },
          "execution_count": 22,
          "metadata": {},
          "output_type": "execute_result"
        }
      ],
      "source": [
        "from sklearn.metrics import f1_score\n",
        "f1_score(y, y_hat)"
      ]
    },
    {
      "cell_type": "code",
      "execution_count": 23,
      "metadata": {
        "id": "sBnR2YiMVeQ7"
      },
      "outputs": [
        {
          "data": {
            "text/plain": [
              "0.7142857142857143"
            ]
          },
          "execution_count": 23,
          "metadata": {},
          "output_type": "execute_result"
        }
      ],
      "source": [
        "# Verify it's the same\n",
        "2 * precision * recall / (precision + recall)"
      ]
    },
    {
      "cell_type": "markdown",
      "metadata": {
        "id": "46tOa-pVXJhT"
      },
      "source": [
        "# Classification - Soft Prediction"
      ]
    },
    {
      "cell_type": "code",
      "execution_count": 24,
      "metadata": {
        "id": "Ko7XYMU_VhEl"
      },
      "outputs": [],
      "source": [
        "# label: -1 or +1\n",
        "# prediction: probability of +1\n",
        "y = np.array([1,1,1,1,1,1,1,1,-1,-1,-1,-1,-1,-1,-1,-1])\n",
        "y_hat = np.array([0.9,0.95,0.7,0.2,0.1,0.051,0.06,0.8,0.89,0.49,0.4,0.45,0.61,0.3,0.35,0.36])"
      ]
    },
    {
      "cell_type": "code",
      "execution_count": 25,
      "metadata": {
        "id": "hMyBQyPTXXkE"
      },
      "outputs": [
        {
          "data": {
            "text/plain": [
              "array([ 1,  1,  1, -1, -1, -1, -1,  1,  1, -1, -1, -1,  1, -1, -1, -1])"
            ]
          },
          "execution_count": 25,
          "metadata": {},
          "output_type": "execute_result"
        }
      ],
      "source": [
        "# Convert soft prediction to hard prediction using threshold\n",
        "thresh = 0.6\n",
        "y_hat_hard = np.where(y_hat > thresh, 1, -1)\n",
        "y_hat_hard"
      ]
    },
    {
      "cell_type": "code",
      "execution_count": 26,
      "metadata": {
        "id": "tJU2HRerX6iD"
      },
      "outputs": [],
      "source": [
        "# Cross-entropy loss\n",
        "from sklearn.metrics import log_loss"
      ]
    },
    {
      "cell_type": "code",
      "execution_count": 27,
      "metadata": {
        "id": "u0XVBbaPYQO-"
      },
      "outputs": [
        {
          "data": {
            "text/plain": [
              "1.0376544542023414"
            ]
          },
          "execution_count": 27,
          "metadata": {},
          "output_type": "execute_result"
        }
      ],
      "source": [
        "# sklearn's log_loss expects 0/1 labels (instead of -1, +1).  (y+1)/2 converts.\n",
        "log_loss(((y+1)/2), y_hat)"
      ]
    },
    {
      "cell_type": "code",
      "execution_count": 28,
      "metadata": {
        "id": "VkeHk-L7YbBS"
      },
      "outputs": [
        {
          "data": {
            "text/plain": [
              "1.0376544542023414"
            ]
          },
          "execution_count": 28,
          "metadata": {},
          "output_type": "execute_result"
        }
      ],
      "source": [
        "# Check that it's the same\n",
        "np.mean(-(1+y)/2 * np.log(y_hat) - (1-y)/2 * np.log(1-y_hat))"
      ]
    },
    {
      "cell_type": "code",
      "execution_count": 29,
      "metadata": {
        "id": "oEj-o1lSYo8X"
      },
      "outputs": [],
      "source": [
        "from sklearn.metrics import roc_curve\n",
        "# ROC curve = FPR vs TPR\n",
        "FPR, TPR, _ = roc_curve(y, y_hat)"
      ]
    },
    {
      "cell_type": "code",
      "execution_count": 30,
      "metadata": {
        "id": "dltvhPk_Zg9U"
      },
      "outputs": [
        {
          "data": {
            "text/plain": [
              "[<matplotlib.lines.Line2D at 0x1283c2a90>]"
            ]
          },
          "execution_count": 30,
          "metadata": {},
          "output_type": "execute_result"
        },
        {
          "data": {
            "image/png": "[encoded data removed]",
            "text/plain": [
              "<Figure size 640x480 with 1 Axes>"
            ]
          },
          "metadata": {},
          "output_type": "display_data"
        }
      ],
      "source": [
        "plt.plot(FPR, TPR)"
      ]
    },
    {
      "cell_type": "code",
      "execution_count": 31,
      "metadata": {
        "id": "3EiqljBtaFW6"
      },
      "outputs": [
        {
          "data": {
            "text/plain": [
              "0.46875"
            ]
          },
          "execution_count": 31,
          "metadata": {},
          "output_type": "execute_result"
        }
      ],
      "source": [
        "from sklearn.metrics import roc_auc_score\n",
        "roc_auc_score(y, y_hat)"
      ]
    },
    {
      "cell_type": "code",
      "execution_count": 32,
      "metadata": {
        "id": "oclNPyO3aQxo"
      },
      "outputs": [
        {
          "data": {
            "text/plain": [
              "0.46875"
            ]
          },
          "execution_count": 32,
          "metadata": {},
          "output_type": "execute_result"
        }
      ],
      "source": [
        "# Check that it equals equivalent definition of auc\n",
        "\n",
        "negative_indices = np.where(y==-1)[0]\n",
        "positive_indices = np.where(y==1)[0]\n",
        "\n",
        "# number of (negative,positive) pairs for which y_hat is ordered correctly\n",
        "num_pairs_ordered_correctly = np.sum(\n",
        "    [[y_hat[j] > y_hat[k]\n",
        "      for k in negative_indices]\n",
        "        for j in positive_indices])\n",
        "\n",
        "# number of (negative, positve) pairs\n",
        "num_pairs = len(negative_indices) * len(positive_indices)\n",
        "\n",
        "# AUC = ratio of last two expressions\n",
        "num_pairs_ordered_correctly / num_pairs"
      ]
    },
    {
      "cell_type": "code",
      "execution_count": null,
      "metadata": {
        "id": "CSBkSC8Hzuac"
      },
      "outputs": [],
      "source": []
    }
  ],
  "metadata": {
    "colab": {
      "provenance": []
    },
    "kernelspec": {
      "display_name": "Python 3",
      "name": "python3"
    },
    "language_info": {
      "codemirror_mode": {
        "name": "ipython",
        "version": 3
      },
      "file_extension": ".py",
      "mimetype": "text/x-python",
      "name": "python",
      "nbconvert_exporter": "python",
      "pygments_lexer": "ipython3",
      "version": "3.11.5"
    }
  },
  "nbformat": 4,
  "nbformat_minor": 0
}
